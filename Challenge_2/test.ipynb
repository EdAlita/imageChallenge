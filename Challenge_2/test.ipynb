{
 "cells": [
  {
   "cell_type": "code",
   "execution_count": null,
   "metadata": {},
   "outputs": [],
   "source": [
    "! pip install -r '../requirements.txt'"
   ]
  },
  {
   "cell_type": "code",
   "execution_count": null,
   "metadata": {},
   "outputs": [],
   "source": [
    "import cv2\n",
    "import numpy as np\n",
    "import skimage, os\n",
    "from skimage.morphology import ball, disk, dilation, binary_erosion, remove_small_objects, erosion, closing, reconstruction, binary_closing\n",
    "from skimage.measure import label,regionprops, perimeter\n",
    "from skimage.morphology import binary_dilation, binary_opening\n",
    "from skimage.filters import roberts, sobel\n",
    "from skimage import measure, feature\n",
    "from skimage.segmentation import clear_border, mark_boundaries\n",
    "from skimage import data\n",
    "from scipy import ndimage as ndi\n",
    "import matplotlib.pyplot as plt\n",
    "from mpl_toolkits.mplot3d.art3d import Poly3DCollection\n",
    "import scipy.misc\n",
    "from glob import glob\n",
    "from skimage.io import imread, imsave\n",
    "from skimage import img_as_ubyte"
   ]
  },
  {
   "cell_type": "code",
   "execution_count": null,
   "metadata": {},
   "outputs": [],
   "source": [
    "BASE_IMG_PATH=os.path.join('..','input')"
   ]
  },
  {
   "cell_type": "code",
   "execution_count": null,
   "metadata": {},
   "outputs": [],
   "source": [
    "def challenge_2(raw_im):\n",
    "    im = raw_im.copy()\n",
    "    binary = im < -200\n",
    "    cleared = clear_boarder(binary)\n",
    "    label_image = label(cleared, background=-1)\n",
    "    areas = [r.area for r in regionprops(label_image)]\n",
    "    if len(areas) > 2:\n",
    "        for region in regionprops(label_image):\n",
    "            if region.area > np.median(areas):\n",
    "                for coordinates in region.coords:                \n",
    "                       label_image[coordinates[0], coordinates[1]] = 0\n",
    "    binary = label_image == 0\n",
    "    selem = disk(5)\n",
    "    binary = binary_erosion(binary, selem)\n",
    "    selem = disk(2)\n",
    "    binary = binary_closing(binary, selem, return_edges=True)\n",
    "    edges = canny(binary)\n",
    "    binary = ndi.binary_fill_holes(edges, structure=np.ones((5,5)))\n",
    "    get_high_vals = binary != 0\n",
    "    im[get_high_vals] = 255\n",
    "    return im"
   ]
  },
  {
   "cell_type": "code",
   "execution_count": null,
   "metadata": {},
   "outputs": [],
   "source": [
    "test_image = imread(\"/home/edalita/Documents/MAIA/3-Semestre/eHealth/Challenge/q3.tif\")\n",
    "segmented_image = challenge_2(test_image)\n",
    "segmented_image_ubyte = img_as_ubyte(segmented_image)\n",
    "imsave('q1.png',segmented_image_ubyte)"
   ]
  }
 ],
 "metadata": {
  "kernelspec": {
   "display_name": "Python 3",
   "language": "python",
   "name": "python3"
  },
  "language_info": {
   "codemirror_mode": {
    "name": "ipython",
    "version": 3
   },
   "file_extension": ".py",
   "mimetype": "text/x-python",
   "name": "python",
   "nbconvert_exporter": "python",
   "pygments_lexer": "ipython3",
   "version": "3.10.12"
  }
 },
 "nbformat": 4,
 "nbformat_minor": 2
}
